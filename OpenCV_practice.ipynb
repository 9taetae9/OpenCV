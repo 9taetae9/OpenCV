{
 "cells": [
  {
   "cell_type": "code",
   "execution_count": 2,
   "metadata": {},
   "outputs": [
    {
     "data": {
      "text/plain": [
       "-1"
      ]
     },
     "execution_count": 2,
     "metadata": {},
     "output_type": "execute_result"
    }
   ],
   "source": [
    "import sys\n",
    "import cv2 as cv\n",
    "\n",
    "img = cv.imread('lena512.bmp')\n",
    "\n",
    "if img is None:\n",
    "    print('Image load failed!')\n",
    "    sys.exit()\n",
    "\n",
    "\n",
    "cv.imshow('image', img)\n",
    "cv.waitKey()\n",
    "#Mat imread(const String& filename, int flags=IMREAD_COLOR); flags=>영상 파일불러올시(컬러모드,영상크기 지정)\n"
   ]
  },
  {
   "cell_type": "code",
   "execution_count": 3,
   "metadata": {},
   "outputs": [
    {
     "name": "stdout",
     "output_type": "stream",
     "text": [
      "type(img1)  <class 'numpy.ndarray'>\n",
      "img1.shape:  (512, 512)\n",
      "img1 is a grayscale image\n"
     ]
    }
   ],
   "source": [
    "import numpy as np\n",
    "\n",
    "def func1():\n",
    "    img1=cv.imread('lena512.bmp', cv.IMREAD_GRAYSCALE)\n",
    "    \n",
    "    if img1 is None:\n",
    "        print('failed!')\n",
    "        return \n",
    "    \n",
    "    print('type(img1) ', type(img1))\n",
    "    print('img1.shape: ', img1.shape)\n",
    "    \n",
    "    if len(img1.shape)==2:\n",
    "        print('img1 is a grayscale image')\n",
    "    elif len(img1.shape)==3:\n",
    "        print('color')\n",
    "        \n",
    "    cv.imshow('img1',img1)\n",
    "    cv.waitKey()\n",
    "    cv.destroyAllWindows()\n",
    "\n",
    "func1()"
   ]
  },
  {
   "cell_type": "code",
   "execution_count": 4,
   "metadata": {},
   "outputs": [],
   "source": [
    "def func2():\n",
    "    img1 = np.empty((480,640), np.uint8) #grayscale\n",
    "    img2 = np.zeros((480,640,3), np.uint8) #color image\n",
    "    img3 = np.ones((480,640),np.int32) #1's matrix\n",
    "    img4 = np.full((480,640), 0, np.float32) #fill with 0,0\n",
    "    \n",
    "    mat1"
   ]
  },
  {
   "cell_type": "code",
   "execution_count": 5,
   "metadata": {},
   "outputs": [],
   "source": [
    "def func3():\n",
    "    img1 = cv.imread('lena512.bmp')\n",
    "    \n",
    "    img2=img1\n",
    "    img3=img1.copy()\n",
    "    \n",
    "    img1[:, :]=(0,255,255) #yello (b,g,r) 순\n",
    "    \n",
    "    cv.imshow('img1',img1)# =>노랑\n",
    "    cv.imshow('img2', img2)# =>노랑\n",
    "    cv.imshow('img3', img3) #=>사진\n",
    "    cv.waitKey()\n",
    "    cv.destroyAllWindows()\n",
    "\n",
    "func3()"
   ]
  },
  {
   "cell_type": "code",
   "execution_count": 6,
   "metadata": {},
   "outputs": [
    {
     "ename": "SyntaxError",
     "evalue": "unexpected EOF while parsing (<ipython-input-6-a10146f78d83>, line 1)",
     "output_type": "error",
     "traceback": [
      "\u001b[1;36m  File \u001b[1;32m\"<ipython-input-6-a10146f78d83>\"\u001b[1;36m, line \u001b[1;32m1\u001b[0m\n\u001b[1;33m    def func4():\u001b[0m\n\u001b[1;37m                ^\u001b[0m\n\u001b[1;31mSyntaxError\u001b[0m\u001b[1;31m:\u001b[0m unexpected EOF while parsing\n"
     ]
    }
   ],
   "source": [
    "def func4():"
   ]
  },
  {
   "cell_type": "code",
   "execution_count": null,
   "metadata": {},
   "outputs": [],
   "source": [
    "def func5() #=>반전 시켜보기 255-원래값"
   ]
  },
  {
   "cell_type": "code",
   "execution_count": null,
   "metadata": {},
   "outputs": [],
   "source": [
    "#행렬연산\n",
    "def func6():\n",
    "    mat1=np.ones((3,4),np.int32)\n",
    "    mat2=np.arange(12).reshape(3,4)\n",
    "    mat3=mat1+mat2\n",
    "    mat4=mat2*2\n",
    "    print(\"mat1\")\n",
    "    print(mat1)\n",
    "    print(\"mat2\")\n",
    "    print(mat2)\n",
    "    print(\"mat3\")\n",
    "    print(mat3)\n",
    "    print(\"mat4\")\n",
    "    print(mat4)\n",
    "    \n",
    "func6()"
   ]
  },
  {
   "cell_type": "code",
   "execution_count": null,
   "metadata": {},
   "outputs": [],
   "source": []
  },
  {
   "cell_type": "code",
   "execution_count": null,
   "metadata": {},
   "outputs": [],
   "source": [
    "#cap.get(...) 현재 열려있는 카메라 장치 또는 동영상 파일로부터 여러가지정보를 받아 오기 위해 사용"
   ]
  },
  {
   "cell_type": "code",
   "execution_count": null,
   "metadata": {},
   "outputs": [],
   "source": [
    "cap = cv.VideoCapture(0)\n",
    "if not cap.isOpened():\n",
    "    print('failed')\n",
    "    sys.exit()\n",
    "    \n",
    "print(\"frame width: \", int(cap.get(cv.CAP_PROP_FRAME_WIDTH)))\n",
    "print(\"frame height: \", int(cap.get(cv.CAP_PROP_FRAME_HEIGHT)))"
   ]
  },
  {
   "cell_type": "code",
   "execution_count": null,
   "metadata": {},
   "outputs": [],
   "source": [
    "while True:\n",
    "    ret, frame= cap.read() \n",
    "# ret, frame= cap.read(): Here, cap is assumed to be an OpenCV video capture object (though it isn't defined in the snippet). \n",
    "#The read() method reads a frame from the video source (could be a webcam or video file). It returns two values:\n",
    "# ret (short for 'return'): A boolean value. If a frame is successfully grabbed, it is True, otherwise, it is False.\n",
    "# frame: The grabbed frame, if any.\n",
    "    if not ret:\n",
    "        break\n",
    "        \n",
    "    inversed = ~frame #이미지 반전\n",
    "    \n",
    "    cv.imshow('frame',frame)\n",
    "    cv.imshow('inversed', inversed)\n",
    "    \n",
    "    if cv.waitKey(10) == 27: #27==ESC key\n",
    "        break\n",
    "\n",
    "cv.destroyAllWindows()"
   ]
  },
  {
   "cell_type": "code",
   "execution_count": null,
   "metadata": {},
   "outputs": [],
   "source": [
    "cap=cv.VideoCapture('tree.avi')\n",
    "\n",
    "if not cap.isOpened():\n",
    "    print('failed')\n",
    "    sys.exit()\n",
    "    \n",
    "print('width',int(cap.get(cv.CAP_PROP_FRAME_WIDTH)))\n",
    "print('height',int(cap.get(cv.CAP_PROP_FRAME_HEIGHT)))\n",
    "print('count',int(cap.get(cv.CAP_PROP_FRAME_COUNT)))\n",
    "\n",
    "fps = cap.get(cv.CAP_PROP_FPS)\n",
    "print('FPS: ',fps)\n",
    "delay=round(1000/fps)"
   ]
  },
  {
   "cell_type": "code",
   "execution_count": null,
   "metadata": {},
   "outputs": [],
   "source": [
    "cap=cv.VideoCapture('tree.avi')\n",
    "\n",
    "if not cap.isOpened():\n",
    "    print(\"failed\")\n",
    "    sys.exit()\n",
    "#원본동영상 open  \n",
    "w=round(cap.get(cv.CAP_PROP_FRAME_WIDTH))\n",
    "h=round(cap.get(cv.CAP_PROP_FRAME_HEIGHT))\n",
    "fps=cap.get(cv.CAP_PROP_FPS)\n",
    "\n",
    "fourcc=cv.VideoWriter_fourcc(*'DVIX')\n",
    "delay=round(1000/fps)\n",
    "\n",
    "outputVideo=cv.VideoWriter('tree.avi', fourcc, fps, (w,h))\n",
    "if not outputVideo.isOpened():\n",
    "    print('failed!')\n",
    "    sys.exit()\n",
    "    \n",
    "while True:\n",
    "    ret, frame= cap.read() \n",
    "    if not ret:\n",
    "        break\n",
    "        \n",
    "    inversed = ~frame #이미지 반전\n",
    "    outputVideo.write(inversed)\n",
    "    \n",
    "    cv.imshow('frame',frame)\n",
    "    cv.imshow('inversed', inversed)\n",
    "    \n",
    "    if cv.waitKey(delay) == 27: #27==ESC key\n",
    "        break\n",
    "\n",
    "cv.destroyAllWindows()"
   ]
  },
  {
   "cell_type": "code",
   "execution_count": null,
   "metadata": {},
   "outputs": [],
   "source": [
    "img=np.full((400,400,3),255,np.uint8)\n",
    "\n",
    "cv.line(img, (50,50),(200,50),(0,0,255))\n",
    "cv.line(img, (50,100),(200,100),(255,0,255),3)\n",
    "cv.line(img, (50,150),(200,150),(255,0,0),10)\n",
    "\n",
    "cv.line(img, (250,50),(350,100),(0,0,255),1,cv.LINE_4)\n",
    "cv.line(img, (250,70),(350,120),(255,0,255),1,cv.LINE_8)\n",
    "cv.line(img, (250,90),(350,140),(255,0,0),1,cv.LINE_AA)\n",
    "\n",
    "cv.arrowedLine(img, (50,200),(150,200),(0,0,255),1)\n",
    "cv.arrowedLine(img, (50,250),(350,250),(255,0,255),1)\n",
    "cv.arrowedLine(img, (50,300),(350,300),(255,0,0),1,cv.LINE_8,0,0.05)\n",
    "\n",
    "\n",
    "cv.imshow('img',img)\n",
    "cv.waitKey()\n",
    "cv.destroyAllWindows()"
   ]
  },
  {
   "cell_type": "code",
   "execution_count": 9,
   "metadata": {},
   "outputs": [],
   "source": [
    "img = cv.imread('lena512.bmp')\n",
    "if img is None :\n",
    "    print('Image load failed!')\n",
    "    sys.exit()\n",
    "    \n",
    "cv.namedWindow('img')\n",
    "cv.imshow('img',img)\n",
    "\n",
    "while True:\n",
    "    keycode = cv.waitKey()\n",
    "    if keycode == ord('i') or keycode == ord('I'):\n",
    "        img= ~img\n",
    "        cv.imshow('img',img)\n",
    "    elif keycode ==27 or keycode == ord('q') or keycode == ord('Q'):\n",
    "        break\n",
    "        \n",
    "cv.destroyAllWindows()"
   ]
  },
  {
   "cell_type": "code",
   "execution_count": 23,
   "metadata": {},
   "outputs": [
    {
     "name": "stdout",
     "output_type": "stream",
     "text": [
      "Event_LBUTTONDOWN: 324 240\n",
      "EVENT_LBUTTONUP: 233 273 \n",
      "Event_LBUTTONDOWN: 134 162\n",
      "EVENT_LBUTTONUP: 358 290 \n",
      "Event_LBUTTONDOWN: 43 341\n",
      "EVENT_LBUTTONUP: 43 341 \n",
      "Event_LBUTTONDOWN: 273 260\n",
      "EVENT_LBUTTONUP: 273 260 \n",
      "Event_LBUTTONDOWN: 212 334\n",
      "EVENT_LBUTTONUP: 212 336 \n",
      "Event_LBUTTONDOWN: 111 394\n",
      "EVENT_LBUTTONUP: 113 392 \n",
      "Event_LBUTTONDOWN: 137 185\n",
      "EVENT_LBUTTONUP: 138 185 \n",
      "Event_LBUTTONDOWN: 68 314\n",
      "EVENT_LBUTTONUP: 67 315 \n",
      "Event_LBUTTONDOWN: 419 159\n",
      "EVENT_LBUTTONUP: 419 159 \n",
      "EVENT_LBUTTONUP: 419 160 \n",
      "Event_LBUTTONDOWN: 422 196\n",
      "EVENT_LBUTTONUP: 424 235 \n",
      "Event_LBUTTONDOWN: 426 242\n",
      "EVENT_LBUTTONUP: 427 254 \n",
      "Event_LBUTTONDOWN: 428 259\n",
      "EVENT_LBUTTONUP: 428 259 \n",
      "EVENT_LBUTTONUP: 428 259 \n",
      "Event_LBUTTONDOWN: 428 259\n",
      "EVENT_LBUTTONUP: 428 259 \n",
      "EVENT_LBUTTONUP: 428 259 \n",
      "Event_LBUTTONDOWN: 226 303\n",
      "EVENT_LBUTTONUP: 226 303 \n",
      "EVENT_LBUTTONUP: 226 303 \n",
      "Event_LBUTTONDOWN: 226 303\n",
      "EVENT_LBUTTONUP: 226 303 \n",
      "EVENT_LBUTTONUP: 226 303 \n",
      "Event_LBUTTONDOWN: 226 303\n",
      "EVENT_LBUTTONUP: 226 303 \n",
      "EVENT_LBUTTONUP: 226 303 \n",
      "Event_LBUTTONDOWN: 165 359\n",
      "EVENT_LBUTTONUP: 289 361 \n",
      "Event_LBUTTONDOWN: 331 372\n",
      "EVENT_LBUTTONUP: 270 353 \n"
     ]
    }
   ],
   "source": [
    "\n",
    "def on_mouse(event, x, y, flags, param):\n",
    "    global oldx, oldy\n",
    "    \n",
    "    if event==cv.EVENT_LBUTTONDOWN:\n",
    "        oldx, oldy = x,y #마지막 위치 업데이트\n",
    "        print('Event_LBUTTONDOWN: %d %d' %(x,y))\n",
    "        \n",
    "    elif event == cv.EVENT_LBUTTONUP:#클릭버튼 떄기\n",
    "        print('EVENT_LBUTTONUP: %d %d ' %(x,y))\n",
    "        \n",
    "    elif event == cv.EVENT_MOUSEMOVE:\n",
    "        if flags & cv.EVENT_FLAG_LBUTTON: #true 이면 드래깅중\n",
    "            cv.line(img, (oldx,oldy),(x,y),(0,255,255),2)\n",
    "            cv.imshow('img',img)\n",
    "            oldx, oldy = x,y\n",
    "            \n",
    "img = cv.imread('lena512.bmp')\n",
    "    \n",
    "if img is None:\n",
    "    print('Image load failed!')\n",
    "    sys.exit()\n",
    "        \n",
    "cv.namedWindow('img')\n",
    "cv.setMouseCallback('img',on_mouse)\n",
    "    \n",
    "cv.imshow('img',img)\n",
    "cv.waitKey() #키보드 입력시 종료\n",
    "cv.destroyAllWindows()"
   ]
  },
  {
   "cell_type": "code",
   "execution_count": 4,
   "metadata": {},
   "outputs": [
    {
     "data": {
      "text/plain": [
       "<function destroyAllWindows>"
      ]
     },
     "execution_count": 4,
     "metadata": {},
     "output_type": "execute_result"
    }
   ],
   "source": [
    "import numpy as np\n",
    "import cv2 as cv\n",
    "\n",
    "#트렉바 사용하기 \n",
    "#사용자가 마우스를 이용하여 트랙바 위치를 조정하면 그에 해당하는 밝기로 영상이 변경됨\n",
    "def saturated(value):\n",
    "    if value > 255:\n",
    "        value=255\n",
    "    elif value<0:\n",
    "        value=0\n",
    "        \n",
    "    return value\n",
    "\n",
    "def on_level_change(pos):\n",
    "    img[:]=saturated(pos*16)\n",
    "    cv.imshow('image',img)\n",
    "    \n",
    "img=np.zeros((400,400),np.uint8)\n",
    "\n",
    "cv.namedWindow('image')\n",
    "cv.createTrackbar('level','image',0,16,on_level_change)\n",
    "\n",
    "cv.imshow('image',img)\n",
    "cv.waitKey()\n",
    "cv.destroyAllWindows"
   ]
  },
  {
   "cell_type": "code",
   "execution_count": 1,
   "metadata": {},
   "outputs": [],
   "source": [
    "filename='mydata.json'\n",
    "def writeData():\n",
    "    name='Jane'\n",
    "    age=10\n",
    "    pt1=(100,200)\n",
    "    scores=(80, 90, 50)\n",
    "    mat1=np.array([[1.0, 1.5],[2.0,3.2]], dtype=np.float32)\n",
    "    \n",
    "    fs=cv.FileStorage(filename, cv.FILE_STORAGE_WRITE)\n",
    "    \n",
    "    if not fs.isOpened():\n",
    "        print('File open failed!')\n",
    "        return \n",
    "    \n",
    "    fs.write('name',name)\n",
    "    fs.write('age',age)\n",
    "    fs.write('point',pt1)\n",
    "    fs.write('scores',scores)\n",
    "    fs.write('data',mat1)\n",
    "    \n",
    "    fs.release()\n",
    "    \n",
    "#데이터 파일을 읽어 오기 위하여 FileStorage 객체를 생성하고 읽기모드로 열어야함\n",
    "#XML/YAML/JOSN 파일을 읽기 모드로 열면 파일 전체를 분석하여 계층적 구조를 갖는 노드 집합을 구성\n",
    "#-Node는 이름과 값으로 구성되어 있는 하나의 데이터를 의미\n",
    "#-특정 이름으로 저장되어 있는 Node에 접근하려면 getNode() 함수 사용"
   ]
  },
  {
   "cell_type": "code",
   "execution_count": 3,
   "metadata": {},
   "outputs": [],
   "source": [
    "#데이터 파일 불러오기\n",
    "def readData():\n",
    "    fs=cv.FileStorage(filename, cv.FILE_STORAGE_READ)\n",
    "    \n",
    "    if not fs.isOpened():\n",
    "        print('File open failed!')\n",
    "        return\n",
    "    \n",
    "    name = fs.getNode('name').string()\n",
    "    age=int(fs.getNode('age').real())\n",
    "    pt1=tuple(fs.getNode('point').mat().astype(np.int32).flatten())\n",
    "    mat1=fs.getNode('data').mat()\n",
    "    \n",
    "    fs.release()\n",
    "    \n",
    "    print('name:', name)\n",
    "    print('age:', age)\n",
    "    print('point', pt1)\n",
    "    print('scores:', scores)\n",
    "    print('data:')\n",
    "    print(mat1)"
   ]
  },
  {
   "cell_type": "code",
   "execution_count": null,
   "metadata": {},
   "outputs": [],
   "source": []
  }
 ],
 "metadata": {
  "kernelspec": {
   "display_name": "Python 3",
   "language": "python",
   "name": "python3"
  },
  "language_info": {
   "codemirror_mode": {
    "name": "ipython",
    "version": 3
   },
   "file_extension": ".py",
   "mimetype": "text/x-python",
   "name": "python",
   "nbconvert_exporter": "python",
   "pygments_lexer": "ipython3",
   "version": "3.8.5"
  }
 },
 "nbformat": 4,
 "nbformat_minor": 4
}
